{
 "cells": [
  {
   "cell_type": "markdown",
   "id": "cc06179e-d658-4cd6-bea7-590f78dba12c",
   "metadata": {},
   "source": [
    "## Business Solution:\n",
    "This project aims to develop a product that creates brochures for a company such as NVIDIA. The brochures will be designed for prospective clients, investors, and potential recruits and translated into several languages, including Arabic, Hebrew, and Japanese, using large language models and OpenAI technologies."
   ]
  },
  {
   "cell_type": "code",
   "execution_count": 1,
   "id": "6c8dc88a-85d9-493b-965c-68895cdd93f2",
   "metadata": {},
   "outputs": [],
   "source": [
    "#imports libraries\n",
    "\n",
    "import os\n",
    "import requests\n",
    "import json\n",
    "from typing import List\n",
    "from dotenv import load_dotenv\n",
    "from bs4 import BeautifulSoup\n",
    "from IPython.display import Markdown, display, update_display\n",
    "from openai import OpenAI"
   ]
  },
  {
   "cell_type": "code",
   "execution_count": 2,
   "id": "131c483b-dd58-4faa-baf5-469ab6b00fbb",
   "metadata": {},
   "outputs": [
    {
     "name": "stdout",
     "output_type": "stream",
     "text": [
      "API key looks good so far\n"
     ]
    }
   ],
   "source": [
    "# Initialize and constants\n",
    "\n",
    "load_dotenv()\n",
    "api_key=os.getenv('OPENAI_API_KEY')\n",
    "\n",
    "if api_key and api_key[:8]=='sk-proj-':\n",
    "    print(\"API key looks good so far\")\n",
    "else:\n",
    "    print(\"There might be a problem with your API key? \")\n",
    "\n",
    "MODEL='gpt-4o-mini'\n",
    "openai=OpenAI()\n"
   ]
  },
  {
   "cell_type": "code",
   "execution_count": 4,
   "id": "196c0dee-7236-4f88-b7c2-f2a885190b19",
   "metadata": {},
   "outputs": [],
   "source": [
    "# A class to represent a Webpage\n",
    "\n",
    "class Website:\n",
    "    \"\"\"\n",
    "    A utility class to represent a Website that we have scraped, now with links\n",
    "    \"\"\"\n",
    "\n",
    "    def __init__(self, url):\n",
    "        self.url = url\n",
    "        response = requests.get(url)\n",
    "        self.body = response.content\n",
    "        soup = BeautifulSoup(self.body, 'html.parser')\n",
    "        self.title = soup.title.string if soup.title else \"No title found\"\n",
    "        if soup.body:\n",
    "            for irrelevant in soup.body([\"script\", \"style\", \"img\", \"input\"]):\n",
    "                irrelevant.decompose()\n",
    "            self.text = soup.body.get_text(separator=\"\\n\", strip=True)\n",
    "        else:\n",
    "            self.text = \"\"\n",
    "        links = [link.get('href') for link in soup.find_all('a')]\n",
    "        self.links = [link for link in links if link]\n",
    "\n",
    "    def get_contents(self):\n",
    "        return f\"Webpage Title:\\n{self.title}\\nWebpage Contents:\\n{self.text}\\n\\n\""
   ]
  },
  {
   "cell_type": "raw",
   "id": "c69ced13-4d7a-4591-92d8-969bc46a8e17",
   "metadata": {},
   "source": [
    "## First, we use GPT-4o-mini to identify relevant links.\n",
    "### We will use a call to GPT-4o-mini to analyze the links on a webpage and provide a structured JSON response.  \n",
    "The model should determine which links are relevant and replace relative links, such as \"/about,\" with a format like \"https://company.com/about.\"  \n",
    "This process employs \"one-shot prompting,\" where we provide an example of the expected response to the prompt."
   ]
  },
  {
   "cell_type": "code",
   "execution_count": 12,
   "id": "ed206771-df05-429d-8743-310bc86358ce",
   "metadata": {},
   "outputs": [],
   "source": [
    "link_system_prompt=\"You are provided with a list of links found on a webpage. \\\n",
    "You are able to decide which of the links would be most relevant to include in a brochure about the company, \\\n",
    "such as links to an About page, or a Company page, or Careers/Jobs pages.\\n\"\n",
    "link_system_prompt+=\"You should respond in JSON as in this example:\"\n",
    "link_system_prompt+=\"\"\"\n",
    "{\n",
    "    \"links\":[\n",
    "        {\"type\": \"about page\", \"url\": \"https://full.url/goes/here/about\"},\n",
    "        {\"type\": \"careers page\": \"url\": \"https://another.full.url/careers\"}\n",
    "    ]\n",
    "}\n",
    "\"\"\""
   ]
  },
  {
   "cell_type": "code",
   "execution_count": 13,
   "id": "ef835a85-9a48-42bd-979e-ca5f51bb1586",
   "metadata": {},
   "outputs": [
    {
     "name": "stdout",
     "output_type": "stream",
     "text": [
      "You are provided with a list of links found on a webpage. You are able to decide which of the links would be most relevant to include in a brochure about the company, such as links to an About page, or a Company page, or Careers/Jobs pages.\n",
      "You should respond in JSON as in this example:\n",
      "{\n",
      "    \"links\":[\n",
      "        {\"type\": \"about page\", \"url\": \"https://full.url/goes/here/about\"},\n",
      "        {\"type\": \"careers page\": \"url\": \"https://another.full.url/careers\"}\n",
      "    ]\n",
      "}\n",
      "\n"
     ]
    }
   ],
   "source": [
    "print(link_system_prompt)"
   ]
  },
  {
   "cell_type": "code",
   "execution_count": 14,
   "id": "f2885e89-6455-4239-a98d-5599ea6e5947",
   "metadata": {},
   "outputs": [],
   "source": [
    "def get_links_user_prompt(website):\n",
    "    user_prompt = f\"Here is the list of links on the website of {website.url} - \"\n",
    "    user_prompt += \"please decide which of these are relevant web links for a brochure about the company, respond with the full https URL in JSON format. \\\n",
    "Do not include Terms of Service, Privacy, email links.\\n\"\n",
    "    user_prompt += \"Links (some might be relative links):\\n\"\n",
    "    user_prompt += \"\\n\".join(website.links)\n",
    "    return user_prompt"
   ]
  },
  {
   "cell_type": "code",
   "execution_count": 16,
   "id": "53c59051-eed0-4292-8204-abbbd1d78df4",
   "metadata": {},
   "outputs": [],
   "source": [
    "def get_links(url):\n",
    "    website=Website(url)\n",
    "    response=openai.chat.completions.create(\n",
    "        model=MODEL,\n",
    "        messages=[\n",
    "            {\"role\": \"system\", \"content\": link_system_prompt},\n",
    "            {\"role\": \"user\", \"content\": get_links_user_prompt(website)}\n",
    "      ],\n",
    "        response_format={\"type\":\"json_object\"}\n",
    "    )\n",
    "    result=response.choices[0].message.content\n",
    "    return json.loads(result)"
   ]
  },
  {
   "cell_type": "raw",
   "id": "de09fade-1f99-4dd9-8ad4-55f6fb9092ee",
   "metadata": {},
   "source": [
    "## Create the brochure!\n",
    "Assemble all the details into another prompt to GPT4-o"
   ]
  },
  {
   "cell_type": "code",
   "execution_count": 19,
   "id": "91ac10e6-8a7a-4367-939b-ac537c1c6c67",
   "metadata": {},
   "outputs": [],
   "source": [
    "def get_all_details(url):\n",
    "    result=\"Landing page:\\n\"\n",
    "    result+=Website(url).get_contents()\n",
    "    links=get_links(url)\n",
    "    print(\"Found links:\",links)\n",
    "    for link in links[\"links\"]:\n",
    "        result+=f\"\\n\\n{link['type']}\\n\"\n",
    "        result+=Website(link[\"url\"]).get_contents()\n",
    "    return result"
   ]
  },
  {
   "cell_type": "code",
   "execution_count": 36,
   "id": "765e9c71-2bbc-4222-bce1-0f553d8d2b10",
   "metadata": {},
   "outputs": [],
   "source": [
    "# print(get_all_details(\"https://www.nvidia.com\"))"
   ]
  },
  {
   "cell_type": "code",
   "execution_count": 21,
   "id": "7116adc1-6f5e-445f-9869-ffcf5fa6a9b8",
   "metadata": {},
   "outputs": [],
   "source": [
    "system_prompt = \"You are an assistant that analyzes the contents of several relevant pages from a company website \\\n",
    "and creates a short brochure about the company for prospective customers, investors and recruits. Respond in markdown.\\\n",
    "Include details of company culture, customers and careers/jobs if you have the information.\"\n"
   ]
  },
  {
   "cell_type": "code",
   "execution_count": 22,
   "id": "02edb903-6352-417f-8c0f-85c2eee269b6",
   "metadata": {},
   "outputs": [],
   "source": [
    "def get_brochure_user_prompt(company_name, url):\n",
    "    user_prompt = f\"You are looking at a company called: {company_name}\\n\"\n",
    "    user_prompt += f\"Here are the contents of its landing page and other relevant pages; use this information to build a short brochure of the company in markdown.\\n\"\n",
    "    user_prompt += get_all_details(url)\n",
    "    user_prompt = user_prompt[:20_000] # Truncate if more than 20,000 characters\n",
    "    return user_prompt"
   ]
  },
  {
   "cell_type": "code",
   "execution_count": 35,
   "id": "2f760069-910e-4209-b357-b97e710f560d",
   "metadata": {},
   "outputs": [],
   "source": [
    "# get_brochure_user_prompt(\"NVIDIA\", \"https://www.nvidia.com\")"
   ]
  },
  {
   "cell_type": "code",
   "execution_count": 24,
   "id": "faf9d9cc-fe30-4441-9adc-aee5b4dc80ca",
   "metadata": {},
   "outputs": [],
   "source": [
    "def create_brochure(company_name, url):\n",
    "    response = openai.chat.completions.create(\n",
    "        model=MODEL,\n",
    "        messages=[\n",
    "            {\"role\": \"system\", \"content\": system_prompt},\n",
    "            {\"role\": \"user\", \"content\": get_brochure_user_prompt(company_name, url)}\n",
    "          ],\n",
    "    )\n",
    "    result = response.choices[0].message.content\n",
    "    display(Markdown(result))"
   ]
  },
  {
   "cell_type": "code",
   "execution_count": 25,
   "id": "c8a672f4-ee87-4e2a-a6b1-dfb46f344ef3",
   "metadata": {},
   "outputs": [
    {
     "name": "stdout",
     "output_type": "stream",
     "text": [
      "Found links: {'links': [{'type': 'about page', 'url': 'https://www.nvidia.com/en-au/about-nvidia/'}, {'type': 'careers page', 'url': 'https://www.nvidia.com/en-us/about-nvidia/careers/'}, {'type': 'company page', 'url': 'https://www.nvidia.com/en-us/about-nvidia/'}, {'type': 'executive insights', 'url': 'https://www.nvidia.com/en-au/executive-insights/'}, {'type': 'training page', 'url': 'https://www.nvidia.com/en-au/training/'}]}\n"
     ]
    },
    {
     "data": {
      "text/markdown": [
       "# NVIDIA Company Brochure\n",
       "\n",
       "## About Us\n",
       "As a world leader in artificial intelligence computing, **NVIDIA** is dedicated to revolutionizing industries through its innovative hardware and software solutions. Established with a vision to facilitate breakthroughs in AI and graphics technology, NVIDIA continues to empower enterprises and creators globally, delivering performance, efficiency, and transformative capabilities across various fields.\n",
       "\n",
       "---\n",
       "\n",
       "## Products & Solutions\n",
       "NVIDIA's extensive portfolio includes:\n",
       "\n",
       "- **Graphics Processing Units (GPUs)** for gaming, professional visualization, and data centers.\n",
       "- **AI Solutions** leveraging frameworks such as Triton for AI inference and NeMo for conversational AI.\n",
       "- **Supercomputing Technologies**, including the DGX platform for AI training and inference.\n",
       "- **Edge Computing** innovations like the Jetson platform.\n",
       "- **Omniverse**, a platform designed for 3D content creation and simulation.\n",
       "\n",
       "Our solutions cater to a wide array of industries, including gaming, healthcare, automotive, financial services, and more.\n",
       "\n",
       "---\n",
       "\n",
       "## Customer Base\n",
       "NVIDIA serves a diverse clientele, from individual gamers and content creators to large enterprises and research institutions. Our technologies are essential across various sectors, enabling advancements in:\n",
       "\n",
       "- **Game Development**: Graphic-intensive games powered by GeForce RTX technology.\n",
       "- **Healthcare**: Innovations in medical imaging and genomics powered by AI.\n",
       "- **Automotive**: Intelligent systems for self-driving vehicles and in-vehicle computing.\n",
       "\n",
       "---\n",
       "\n",
       "## Company Culture\n",
       "At NVIDIA, we foster a **collaborative and inclusive culture** that values creativity, innovation, and diversity. Our teams are passionate about technology and are committed to pushing the boundaries of AI and computing. We encourage continuous learning and support professional development, enabling our employees to thrive in a dynamic and rapidly evolving environment.\n",
       "\n",
       "---\n",
       "\n",
       "## Careers at NVIDIA\n",
       "NVIDIA offers a wide range of career opportunities for associates at different levels:\n",
       "\n",
       "- **Engineering & Development**: Positions in software engineering, hardware design, and AI research.\n",
       "- **Sales & Marketing**: Roles focusing on customer engagement, product marketing, and partnerships.\n",
       "- **Operations**: Careers ranging from project management to supply chain solutions.\n",
       "\n",
       "Join us in our mission to unleash the transformative power of technology. **Explore our job openings** and find your place at NVIDIA today!\n",
       "\n",
       "---\n",
       "\n",
       "## Connect with Us\n",
       "For more information about our products, solutions, and career opportunities, please visit our website: [NVIDIA](https://www.nvidia.com) \n",
       "\n",
       "**NVIDIA - Big Ideas, Powerful Innovations.**"
      ],
      "text/plain": [
       "<IPython.core.display.Markdown object>"
      ]
     },
     "metadata": {},
     "output_type": "display_data"
    }
   ],
   "source": [
    "create_brochure(\"NVIDIA\", \"https://www.nvidia.com\")"
   ]
  },
  {
   "cell_type": "markdown",
   "id": "781fa1db-7acc-41fc-b26c-0d64964eb161",
   "metadata": {},
   "source": [
    "## Finally - a minor improvement\n",
    "\n",
    "With a small adjustment, we can change this so that the results stream back from OpenAI,\n",
    "with the familiar typewriter animation"
   ]
  },
  {
   "cell_type": "code",
   "execution_count": 26,
   "id": "b8359501-9f05-42bc-916c-7990ac910866",
   "metadata": {},
   "outputs": [],
   "source": [
    "def stream_brochure(company_name, url):\n",
    "    stream= openai.chat.completions.create(\n",
    "        model=MODEL,\n",
    "        messages=[\n",
    "            {\"role\": \"system\", \"content\": system_prompt},\n",
    "            {\"role\": \"user\", \"content\": get_brochure_user_prompt(company_name, url)}\n",
    "          ],\n",
    "        stream=True\n",
    "    )\n",
    "\n",
    "    response=\"\"\n",
    "    display_handle=display(Markdown(\"\"),display_id=True)\n",
    "    for chunk in stream:\n",
    "        response +=chunk.choices[0].delta.content or ''\n",
    "        response = response.replace(\"```\",\"\").replace(\"markdown\",\"\")\n",
    "        update_display(Markdown(response),display_id=display_handle.display_id)"
   ]
  },
  {
   "cell_type": "code",
   "execution_count": 27,
   "id": "cd834aa7-deda-40cd-97ab-5fa5117fc6e0",
   "metadata": {},
   "outputs": [
    {
     "name": "stdout",
     "output_type": "stream",
     "text": [
      "Found links: {'links': [{'type': 'about page', 'url': 'https://www.nvidia.com/en-au/about-nvidia/'}, {'type': 'careers page', 'url': 'https://www.nvidia.com/en-us/about-nvidia/careers/'}, {'type': 'company page', 'url': 'https://www.nvidia.com/en-us/about-nvidia/'}, {'type': 'investor relations', 'url': 'https://investor.nvidia.com/home/default.aspx'}, {'type': 'executive insights', 'url': 'https://www.nvidia.com/en-au/executive-insights/'}, {'type': 'training page', 'url': 'https://www.nvidia.com/en-au/training/'}]}\n"
     ]
    },
    {
     "data": {
      "text/markdown": [
       "# NVIDIA Company Brochure\n",
       "\n",
       "---\n",
       "\n",
       "## **About Us**\n",
       "NVIDIA is a global leader in artificial intelligence (AI) computing. We specialize in bringing AI advancements to multiple industries, including gaming, design, healthcare, education, and transportation. Originally known for pioneering visual computing, our capabilities have expanded to encompass powerful AI platforms that support both enterprise and individual needs.\n",
       "\n",
       "---\n",
       "\n",
       "## **Our Products & Solutions**\n",
       "- **Hardware**: Including GeForce graphics cards, RTX AI PCs, and high-performance servers for data centers.\n",
       "- **Software**: Innovative AI applications such as Triton for AI inference, RAPIDS for data analytics, and the Omniverse for interactive 3D design.\n",
       "- **Industries Served**:\n",
       "  - Architecture, Engineering, and Construction\n",
       "  - Consumer Internet\n",
       "  - Cybersecurity\n",
       "  - Financial Services\n",
       "  - Healthcare and Life Sciences\n",
       "  - Game Development\n",
       "\n",
       "---\n",
       "\n",
       "## **Customer Base**\n",
       "Our diverse customer base ranges from developers and IT professionals to creative designers and researchers. NVIDIA solutions empower them to create, analyze, and optimize their workflows using cutting-edge AI technology.\n",
       "\n",
       "---\n",
       "\n",
       "## **Company Culture**\n",
       "At NVIDIA, we foster a culture of innovation and collaboration. We encourage our employees to push the boundaries of technology and creativity. Our team comprises passionate individuals who are dedicated to transforming industries through AI. We embrace diversity and inclusion, recognizing that diverse thoughts enhance problem-solving and innovation.\n",
       "\n",
       "---\n",
       "\n",
       "## **Careers at NVIDIA**\n",
       "Joining NVIDIA offers enthusiasts and experts the opportunity to work on groundbreaking projects in AI and computing. We seek talented individuals who are eager to make an impact and contribute to advancements in technology. Our employees benefit from:\n",
       "- **Professional Development**: Training and mentorship opportunities to advance their careers.\n",
       "- **Inclusive Environment**: A workplace that embraces diverse perspectives and backgrounds.\n",
       "- **Competitive Benefits**: Comprehensive packages that ensure the well-being of our employees.\n",
       "\n",
       "---\n",
       "\n",
       "## **Conclusion**\n",
       "NVIDIA is at the forefront of AI innovation, ready to empower the next generation of technology solutions. Whether you're a potential customer looking for cutting-edge products, an investor interested in our growth trajectory, or a recruit wanting to join our passionate team, NVIDIA welcomes you to be a part of our exciting journey.\n",
       "\n",
       "For more information, visit us at [NVIDIA](https://www.nvidia.com) or connect with us through our careers page to explore opportunities.\n",
       "\n",
       "--- \n",
       "\n",
       "### *Transforming the Future with Artificial Intelligence*"
      ],
      "text/plain": [
       "<IPython.core.display.Markdown object>"
      ]
     },
     "metadata": {},
     "output_type": "display_data"
    }
   ],
   "source": [
    "\n",
    "stream_brochure(\"NVIDIA\", \"https://www.nvidia.com\")"
   ]
  },
  {
   "cell_type": "markdown",
   "id": "3a1fabbf-1831-48ba-aaaa-e08d03e9ffe3",
   "metadata": {},
   "source": [
    "# Convert the brochure to Arabic language\n"
   ]
  },
  {
   "cell_type": "code",
   "execution_count": 28,
   "id": "e75be9e6-040d-4178-a5b3-1b7ae4460bc8",
   "metadata": {},
   "outputs": [],
   "source": [
    "def create_brochure_language(company_name, url, language):\n",
    "    language_prompt = f\"You are a professional translator and writer specializing in creating and translating brochures. Convert the brochure to {language} while maintaining its original tone, format, and purpose.\"\n",
    "    user_language_prompt = f\"Generate a brochure for the company '{company_name}' available at the URL: {url}, and translate it into {language}.\"\n",
    "    response = openai.chat.completions.create(\n",
    "        model=MODEL,\n",
    "        messages=[\n",
    "            {\"role\": \"system\", \"content\": language_prompt},\n",
    "            {\"role\": \"user\", \"content\": user_language_prompt}\n",
    "        ],\n",
    "    )\n",
    "    result = response.choices[0].message.content\n",
    "    display(Markdown(result))\n"
   ]
  },
  {
   "cell_type": "code",
   "execution_count": 29,
   "id": "0748ec58-335b-4796-ae15-300dee7b24b0",
   "metadata": {},
   "outputs": [
    {
     "data": {
      "text/markdown": [
       "I'm unable to access external URLs directly, but I can help you create a sample brochure for NVIDIA and then translate it into Arabic. Below is an example brochure text you might find on NVIDIA's website, followed by its Arabic translation.\n",
       "\n",
       "---\n",
       "\n",
       "**NVIDIA Brochure**\n",
       "\n",
       "**Unleashing the Power of AI and Graphics**\n",
       "\n",
       "**About Us**\n",
       "NVIDIA is a leading innovator in visual computing technologies and artificial intelligence. Our cutting-edge graphics processing units (GPUs) power everything from gaming and entertainment to deep learning and data science.\n",
       "\n",
       "**Our Products**\n",
       "1. **Gaming:** Experience immersive gameplay with NVIDIA GeForce GPUs, designed to deliver superior graphics and frame rates.\n",
       "2. **AI & Deep Learning:** Leverage GPU-accelerated computing with NVIDIA Tesla and A100 GPUs for powerful AI applications.\n",
       "3. **Data Centers:** Optimize your data infrastructure with NVIDIA DGX systems and networking solutions to enhance performance and efficiency.\n",
       "\n",
       "**Why Choose NVIDIA?**\n",
       "- **Innovative Technology:** Stay ahead with our state-of-the-art products and solutions.\n",
       "- **Community & Support:** Join a thriving community and access extensive support for developers and gamers alike.\n",
       "- **Sustainability:** Committed to sustainability, we ensure our technologies are energy-efficient and environmentally friendly.\n",
       "\n",
       "**Join Us**\n",
       "Discover how NVIDIA can transform your experience. Visit our website at [www.nvidia.com](http://www.nvidia.com) for more information and to explore our latest developments.\n",
       "\n",
       "---\n",
       "\n",
       "**كتيب إنفيديا**\n",
       "\n",
       "**تحرير قوة الذكاء الاصطناعي والرسومات**\n",
       "\n",
       "**من نحن**\n",
       "تعتبر إنفيديا رائدة في الابتكار في تكنولوجيا الحوسبة البصرية والذكاء الاصطناعي. تقوم وحدات معالجة الرسومات المتطورة لدينا بتشغيل كل شيء من الألعاب والترفيه إلى التعلم العميق وعلوم البيانات.\n",
       "\n",
       "**منتجاتنا**\n",
       "1. **الألعاب:** استمتع بتجربة لعب غامرة مع وحدات معالجة الرسوميات NVIDIA GeForce، المصممة لتقديم رسومات ومعدلات إطار متفوقة.\n",
       "2. **الذكاء الاصطناعي والتعلم العميق:** استغل الحوسبة المعززة لوحدات معالجة الرسوم NVIDIA Tesla وA100 لتطبيقات الذكاء الاصطناعي القوية.\n",
       "3. **مراكز البيانات:** قم بتحسين بنيتك التحتية للبيانات باستخدام أنظمة NVIDIA DGX وحلول الشبكات لتعزيز الأداء والكفاءة.\n",
       "\n",
       "**لماذا تختار إنفيديا؟**\n",
       "- **تكنولوجيا مبتكرة:** ابق في الطليعة مع منتجاتنا وحلولنا المتطورة.\n",
       "- **مجتمع ودعم:** انضم إلى مجتمع مزدهر واحصل على دعم واسع للمطورين واللاعبين على حد سواء.\n",
       "- **الاستدامة:** ملتزمون بالاستدامة، نضمن أن تكون تقنياتنا موفرة للطاقة وصديقة للبيئة.\n",
       "\n",
       "**انضم إلينا**\n",
       "اكتشف كيف يمكن لإنفيديا تحويل تجربتك. قم بزيارة موقعنا على الإنترنت على [www.nvidia.com](http://www.nvidia.com) لمزيد من المعلومات واستكشاف أحدث تطوراتنا.\n",
       "\n",
       "--- \n",
       "\n",
       "Feel free to modify any section according to your requirements!"
      ],
      "text/plain": [
       "<IPython.core.display.Markdown object>"
      ]
     },
     "metadata": {},
     "output_type": "display_data"
    }
   ],
   "source": [
    "create_brochure_language(\"NVIDIA\", \"https://www.nvidia.com\",\"Arabic\")"
   ]
  },
  {
   "cell_type": "markdown",
   "id": "7153fb9f-cc4a-4c2c-bc22-c236aa13fa3a",
   "metadata": {},
   "source": [
    "# Convert the brochure to the Hebrew language"
   ]
  },
  {
   "cell_type": "code",
   "execution_count": 30,
   "id": "ba54f80b-b2cd-4a50-b460-e0d042499c49",
   "metadata": {},
   "outputs": [
    {
     "data": {
      "text/markdown": [
       "I’m unable to directly access external content such as the NVIDIA website. However, I can help you create a sample brochure for NVIDIA based on general information and then translate it into Hebrew. Please find the sample brochure below:\n",
       "\n",
       "---\n",
       "\n",
       "### **NVIDIA: Pioneering the Future of Computing**\n",
       "\n",
       "**About Us:**\n",
       "NVIDIA is a global leader in accelerated computing. Our technology is transforming industries and driving progress in artificial intelligence, gaming, data centers, and automotive.\n",
       "\n",
       "**Our Technology:**\n",
       "- **Gaming:** Experience immersive gaming with the latest RTX graphics cards that deliver real-time ray tracing and AI-enhanced visuals.\n",
       "- **Data Science:** Leverage powerful GPUs for faster data processing and AI modeling, helping businesses make informed decisions.\n",
       "- **AI Innovation:** NVIDIA is at the forefront of AI research, providing tools and frameworks that empower developers worldwide.\n",
       "\n",
       "**Our Products:**\n",
       "1. **GeForce RTX Series:** Elevate your gaming experience with cutting-edge graphics performance.\n",
       "2. **NVIDIA DGX Systems:** Designed for AI research, these systems provide unparalleled computing power.\n",
       "3. **NVIDIA Jetson:** An edge computing platform to bring AI capabilities to devices.\n",
       "\n",
       "**Why Choose NVIDIA?**\n",
       "- **Innovation:** We are committed to pushing the boundaries of technology.\n",
       "- **Community:** Join a vibrant community of developers, gamers, and researchers.\n",
       "- **Support:** Our dedicated support teams are here to help you maximize your experience.\n",
       "\n",
       "**Get Involved:**\n",
       "Visit our website to learn more about our products, download drivers, and join our community.\n",
       "\n",
       "**Contact Us:**\n",
       "For inquiries, please reach out through our website or follow us on social media.\n",
       "\n",
       "---\n",
       "\n",
       "### **NVIDIA: מובילים את העתיד של המחשוב**\n",
       "\n",
       "**עלינו:**\n",
       "NVIDIA היא המובילה הגלובלית בתחום המחשוב המואץ. הטכנולוגיה שלנו משנה תעשיות ומניעה התקדמות בתחום הבינה המלאכותית, משחקים, מרכזי נתונים ורכב.\n",
       "\n",
       "**הטכנולוגיה שלנו:**\n",
       "- **משחקים:** חווה חוויית משחק מרהיבה עם כרטיסי מסך RTX החדשים שמספקים ריכוך קרני אור בזמן אמת ומראות משופרים באינטליגנציה מלאכותית.\n",
       "- **מדעי הנתונים:** נצל מעבדים גרפיים רבי עוצמה לעיבוד נתונים מהיר ולמודלים של בינה מלאכותית, המסייעים לעסקים לקבל החלטות מושכלות.\n",
       "- **חדשנות בינה מלאכותית:** NVIDIA נמצאת בחזית מחקר הבינה המלאכותית, ומספקת כלים ומסגרות המעצימות מפתחים ברחבי העולם.\n",
       "\n",
       "**המוצרים שלנו:**\n",
       "1. **סדרת GeForce RTX:** שדרג את חוויית המשחק שלך עם ביצועי גרפיקה מתקדמים.\n",
       "2. **מערכות NVIDIA DGX:** מיועדות למחקר בינה מלאכותית, מערכות אלו מספקות כוח חישוב חסר תקדים.\n",
       "3. **NVIDIA Jetson:** פלטפורמת חישוב קצה להבאת יכולות בינה מלאכותית למכשירים.\n",
       "\n",
       "**למה לבחור ב-NVIDIA?**\n",
       "- **חדשנות:** אנו מחויבים לדחוף את גבולות הטכנולוגיה.\n",
       "- **קהילה:** הצטרף לקהילה התוססת של מפתחים, גיימרים וחוקרים.\n",
       "- **תמיכה:** צוותי התמיכה המיועדים שלנו כאן כדי לעזור לך למקסם את החוויה שלך.\n",
       "\n",
       "**התקשר אלינו:**\n",
       "בקר באתר האינטרנט שלנו כדי ללמוד עוד על המוצרים שלנו, להוריד מנהלי התקן ולהצטרף לקהילה שלנו.\n",
       "\n",
       "---\n",
       "\n",
       "Feel free to modify any sections to better match specific content or features you want to highlight!"
      ],
      "text/plain": [
       "<IPython.core.display.Markdown object>"
      ]
     },
     "metadata": {},
     "output_type": "display_data"
    }
   ],
   "source": [
    "create_brochure_language(\"NVIDIA\", \"https://www.nvidia.com\",\"Hebrew\")"
   ]
  },
  {
   "cell_type": "markdown",
   "id": "83dc3356-1f2b-4276-892a-25a19786ed6a",
   "metadata": {},
   "source": [
    "# Convert the brochure to the Japanese language"
   ]
  },
  {
   "cell_type": "code",
   "execution_count": 31,
   "id": "53db13e3-6bc4-4ba1-950e-a9f0f658776a",
   "metadata": {},
   "outputs": [
    {
     "data": {
      "text/markdown": [
       "Sure, I can help create a sample brochure for NVIDIA and then translate it into Japanese. Below is a fictional brochure based on common themes associated with the company. Please keep in mind, this is an original creation and will not be directly from the NVIDIA website.\n",
       "\n",
       "---\n",
       "\n",
       "**NVIDIA Brochure**\n",
       "\n",
       "**Unleashing the Power of AI and Graphics**\n",
       "\n",
       "Welcome to NVIDIA - where innovation meets performance. Our cutting-edge technology is revolutionizing industries by providing powerful tools for creators, gamers, and businesses worldwide.\n",
       "\n",
       "**Our Products:**\n",
       "\n",
       "1. **GeForce Gaming Graphics Cards**\n",
       "   - Experience unparalleled gaming performance with our latest GPUs, designed to deliver stunning visuals and smooth gameplay.\n",
       "   - Explore our range: from the entry-level GeForce GTX to the flagship GeForce RTX.\n",
       "\n",
       "2. **NVIDIA AI Solutions**\n",
       "   - Transform your business with AI-driven applications.\n",
       "   - Our frameworks, such as CUDA and TensorRT, empower developers to build smarter, more efficient systems.\n",
       "\n",
       "3. **NVIDIA Studio**\n",
       "   - Designed for creators, NVIDIA Studio provides the software and hardware needed for graphic design, video editing, and 3D rendering.\n",
       "   - Powered by RTX technology for real-time ray tracing and enhanced workflows.\n",
       "\n",
       "4. **Data Center Solutions**\n",
       "   - Harness the power of AI and deep learning with NVIDIA’s data center GPUs.\n",
       "   - Optimize performance for computing tasks and analytics across various industries.\n",
       "\n",
       "**Why Choose NVIDIA?**\n",
       "\n",
       "- **Innovation**: Pioneering advancements in AI, gaming, and professional graphics.\n",
       "- **Performance**: High-quality products backed by trusted performance metrics.\n",
       "- **Community**: Join a vibrant community of gamers and developers contributing to the future of technology.\n",
       "\n",
       "**Get in Touch**\n",
       "\n",
       "For more information about our products and services, visit our website: [www.nvidia.com](http://www.nvidia.com)\n",
       "\n",
       "---\n",
       "\n",
       "**NVIDIA ブロシュア**\n",
       "\n",
       "**AI とグラフィックスの力を解き放つ**\n",
       "\n",
       "NVIDIA へようこそ - 革新とパフォーマンスが出会う場所。当社の最先端技術は、創作者、ゲーマー、ビジネスのための強力なツールを提供することで、世界中の業界に革命をもたらしています。\n",
       "\n",
       "**製品一覧:**\n",
       "\n",
       "1. **GeForce ゲーミンググラフィックスカード**\n",
       "   - 最新の GPU で比類のないゲーミングパフォーマンスを体験してください。驚くべきビジュアルとスムーズなゲームプレイを実現するために設計されています。\n",
       "   - エントリーレベルの GeForce GTX からフラッグシップの GeForce RTX までの幅広いラインアップをご覧ください。\n",
       "\n",
       "2. **NVIDIA AI ソリューション**\n",
       "   - AI 主導のアプリケーションでビジネスを変革しましょう。\n",
       "   - CUDA や TensorRT などのフレームワークにより、開発者はよりスマートで効率的なシステムを構築できます。\n",
       "\n",
       "3. **NVIDIA Studio**\n",
       "   - 創作者向けに設計された NVIDIA Studio は、グラフィックデザイン、ビデオ編集、3D レンダリングに必要なソフトウェアとハードウェアを提供します。\n",
       "   - リアルタイムレイトレーシングと強化されたワークフローのために RTX 技術により強化されています。\n",
       "\n",
       "4. **データセンターソリューション**\n",
       "   - NVIDIA のデータセンター GPU で AI と深層学習の力を活用します。\n",
       "   - 様々な業界向けのコンピューティングタスクや分析のためにパフォーマンスを最適化します。\n",
       "\n",
       "**NVIDIA を選ぶ理由**\n",
       "\n",
       "- **革新**: AI、ゲーミング、プロフェッショナルグラフィックスにおける先駆的な進展。\n",
       "- **パフォーマンス**: 信頼されたパフォーマンスメトリクスに裏付けられた高品質な製品。\n",
       "- **コミュニティ**: テクノロジーの未来に貢献するゲーマーや開発者の活気あるコミュニティに参加しましょう。\n",
       "\n",
       "**お問い合わせ**\n",
       "\n",
       "製品やサービスに関する詳細は、当社のウェブサイトをご覧ください: [www.nvidia.com](http://www.nvidia.com)\n",
       "\n",
       "---\n",
       "\n",
       "This translation maintains the original tone, format, and purpose of the fictional NVIDIA brochure."
      ],
      "text/plain": [
       "<IPython.core.display.Markdown object>"
      ]
     },
     "metadata": {},
     "output_type": "display_data"
    }
   ],
   "source": [
    "create_brochure_language(\"NVIDIA\", \"https://www.nvidia.com\",\"Japanese\")"
   ]
  },
  {
   "cell_type": "code",
   "execution_count": null,
   "id": "823d455c-8c50-43ea-82c3-6bddb7df6784",
   "metadata": {},
   "outputs": [],
   "source": []
  },
  {
   "cell_type": "code",
   "execution_count": null,
   "id": "0a642a7e-4ce2-499b-9e90-137f57590659",
   "metadata": {},
   "outputs": [],
   "source": []
  }
 ],
 "metadata": {
  "kernelspec": {
   "display_name": "Python 3 (ipykernel)",
   "language": "python",
   "name": "python3"
  },
  "language_info": {
   "codemirror_mode": {
    "name": "ipython",
    "version": 3
   },
   "file_extension": ".py",
   "mimetype": "text/x-python",
   "name": "python",
   "nbconvert_exporter": "python",
   "pygments_lexer": "ipython3",
   "version": "3.12.7"
  }
 },
 "nbformat": 4,
 "nbformat_minor": 5
}
